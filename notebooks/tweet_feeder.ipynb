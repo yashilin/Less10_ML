{
 "cells": [
  {
   "cell_type": "code",
   "execution_count": 5,
   "metadata": {},
   "outputs": [
    {
     "name": "stdout",
     "output_type": "stream",
     "text": [
      "Current spark version is 2.4.4\n"
     ]
    }
   ],
   "source": [
    "println(s\"Current spark version is ${spark.version}\")"
   ]
  },
  {
   "cell_type": "code",
   "execution_count": 6,
   "metadata": {},
   "outputs": [
    {
     "name": "stdout",
     "output_type": "stream",
     "text": [
      "Total tweets in file: 1600000\n"
     ]
    },
    {
     "data": {
      "text/plain": [
       "dataSchema = StructType(StructField(target,IntegerType,true), StructField(id,LongType,true), StructField(raw_timestamp,StringType,true), StructField(query_status,StringType,true), StructField(author,StringType,true), StructField(tweet,StringType,true))\n",
       "dataPath = /home/jovyan/data/training.1600000.processed.noemoticon.csv\n",
       "raw_sentiment = [tweet: string]\n"
      ]
     },
     "metadata": {},
     "output_type": "display_data"
    },
    {
     "data": {
      "text/plain": [
       "[tweet: string]"
      ]
     },
     "execution_count": 6,
     "metadata": {},
     "output_type": "execute_result"
    }
   ],
   "source": [
    "import org.apache.spark.sql.types.{StructType, StructField, IntegerType, LongType, StringType}\n",
    "\n",
    "val dataSchema = new StructType()\n",
    "    .add(\"target\", IntegerType)\n",
    "    .add(\"id\", LongType)\n",
    "    .add(\"raw_timestamp\", StringType)\n",
    "    .add(\"query_status\", StringType)\n",
    "    .add(\"author\", StringType)\n",
    "    .add(\"tweet\", StringType)\n",
    "\n",
    "    \n",
    "val dataPath= \"/home/jovyan/data/training.1600000.processed.noemoticon.csv\"\n",
    "\n",
    "val raw_sentiment = spark.read\n",
    "    .format(\"csv\")\n",
    "    .option(\"header\",false)\n",
    "    .schema(dataSchema)\n",
    "    .load(dataPath)\n",
    "    .selectExpr(\"tweet\")\n",
    "\n",
    "println(s\"Total tweets in file: ${raw_sentiment.count}\")\n"
   ]
  },
  {
   "cell_type": "code",
   "execution_count": 7,
   "metadata": {},
   "outputs": [
    {
     "name": "stdout",
     "output_type": "stream",
     "text": [
      "Streaming started!\n"
     ]
    },
    {
     "data": {
      "text/plain": [
       "timer = java.util.Timer@27916f6c\n",
       "task = $anon$1@9cd923a\n"
      ]
     },
     "metadata": {},
     "output_type": "display_data"
    },
    {
     "data": {
      "text/plain": [
       "$anon$1@9cd923a"
      ]
     },
     "execution_count": 7,
     "metadata": {},
     "output_type": "execute_result"
    },
    {
     "name": "stdout",
     "output_type": "stream",
     "text": [
      "2020-02-12T06:55:36.363Z - saved some data to the events stream!\n",
      "2020-02-12T06:55:42.803Z - saved some data to the events stream!\n",
      "2020-02-12T06:55:49.037Z - saved some data to the events stream!\n",
      "2020-02-12T06:55:55.551Z - saved some data to the events stream!\n",
      "2020-02-12T06:56:02.138Z - saved some data to the events stream!\n",
      "2020-02-12T06:56:08.640Z - saved some data to the events stream!\n",
      "2020-02-12T06:56:15.109Z - saved some data to the events stream!\n",
      "2020-02-12T06:56:21.675Z - saved some data to the events stream!\n",
      "2020-02-12T06:56:28.174Z - saved some data to the events stream!\n",
      "2020-02-12T06:56:34.641Z - saved some data to the events stream!\n",
      "2020-02-12T06:56:41.220Z - saved some data to the events stream!\n",
      "2020-02-12T06:56:47.610Z - saved some data to the events stream!\n",
      "2020-02-12T06:56:54.138Z - saved some data to the events stream!\n",
      "2020-02-12T06:57:00.717Z - saved some data to the events stream!\n",
      "2020-02-12T06:57:07.104Z - saved some data to the events stream!\n",
      "2020-02-12T06:57:13.592Z - saved some data to the events stream!\n",
      "2020-02-12T06:57:19.994Z - saved some data to the events stream!\n",
      "2020-02-12T06:57:26.614Z - saved some data to the events stream!\n",
      "2020-02-12T06:57:33.175Z - saved some data to the events stream!\n",
      "2020-02-12T06:57:39.613Z - saved some data to the events stream!\n",
      "2020-02-12T06:57:46.076Z - saved some data to the events stream!\n",
      "2020-02-12T06:57:52.662Z - saved some data to the events stream!\n",
      "2020-02-12T06:57:59.317Z - saved some data to the events stream!\n",
      "2020-02-12T06:58:05.937Z - saved some data to the events stream!\n",
      "2020-02-12T06:58:12.613Z - saved some data to the events stream!\n",
      "2020-02-12T06:58:19.923Z - saved some data to the events stream!\n",
      "2020-02-12T06:58:27.227Z - saved some data to the events stream!\n",
      "2020-02-12T06:58:34.605Z - saved some data to the events stream!\n",
      "2020-02-12T06:58:42.282Z - saved some data to the events stream!\n",
      "2020-02-12T06:58:49.871Z - saved some data to the events stream!\n",
      "2020-02-12T06:58:57.472Z - saved some data to the events stream!\n",
      "2020-02-12T06:59:04.949Z - saved some data to the events stream!\n",
      "2020-02-12T06:59:12.648Z - saved some data to the events stream!\n",
      "2020-02-12T06:59:20.523Z - saved some data to the events stream!\n",
      "2020-02-12T06:59:28.280Z - saved some data to the events stream!\n",
      "2020-02-12T06:59:35.892Z - saved some data to the events stream!\n",
      "2020-02-12T06:59:43.344Z - saved some data to the events stream!\n",
      "2020-02-12T06:59:50.774Z - saved some data to the events stream!\n",
      "2020-02-12T06:59:58.050Z - saved some data to the events stream!\n",
      "2020-02-12T07:00:05.315Z - saved some data to the events stream!\n",
      "2020-02-12T07:00:12.707Z - saved some data to the events stream!\n",
      "2020-02-12T07:00:20.320Z - saved some data to the events stream!\n",
      "2020-02-12T07:00:28.022Z - saved some data to the events stream!\n",
      "2020-02-12T07:00:35.662Z - saved some data to the events stream!\n",
      "2020-02-12T07:00:43.279Z - saved some data to the events stream!\n"
     ]
    }
   ],
   "source": [
    "import java.util.{Calendar, Timer, TimerTask}\n",
    "\n",
    "val timer = new Timer()\n",
    "\n",
    "val task = new TimerTask {\n",
    "  def run(): Unit = {\n",
    "      val data = raw_sentiment.sample(fraction=0.00001,withReplacement=true)\n",
    "      data.coalesce(1).write.format(\"json\").mode(\"append\").save(\"/home/jovyan/data/events-stream\")\n",
    "      println(s\"${Calendar.getInstance().toInstant} - saved some data to the events stream!\")\n",
    "  } \n",
    "}\n",
    "\n",
    "println(\"Streaming started!\")\n",
    "\n",
    "timer.schedule(task, 1000L, 1000L)"
   ]
  },
  {
   "cell_type": "code",
   "execution_count": 4,
   "metadata": {},
   "outputs": [
    {
     "data": {
      "text/plain": [
       "true"
      ]
     },
     "execution_count": 4,
     "metadata": {},
     "output_type": "execute_result"
    }
   ],
   "source": [
    "task.cancel()"
   ]
  },
  {
   "cell_type": "code",
   "execution_count": null,
   "metadata": {},
   "outputs": [],
   "source": []
  }
 ],
 "metadata": {
  "kernelspec": {
   "display_name": "Apache Toree - Scala",
   "language": "scala",
   "name": "apache_toree_scala"
  },
  "language_info": {
   "codemirror_mode": "text/x-scala",
   "file_extension": ".scala",
   "mimetype": "text/x-scala",
   "name": "scala",
   "pygments_lexer": "scala",
   "version": "2.11.12"
  }
 },
 "nbformat": 4,
 "nbformat_minor": 2
}
